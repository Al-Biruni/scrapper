{
 "cells": [
  {
   "cell_type": "code",
   "execution_count": null,
   "metadata": {},
   "outputs": [],
   "source": [
    "\n",
    "\n",
    "    "
   ]
  },
  {
   "cell_type": "code",
   "execution_count": null,
   "metadata": {},
   "outputs": [],
   "source": [
    "\n",
    "\n",
    "from requests_html import AsyncHTMLSession\n",
    "import requests\n",
    "import concurrent\n",
    "import asyncio\n",
    "import random\n",
    "from bs4 import BeautifulSoup\n",
    "import pandas as pd\n",
    "import json\n"
   ]
  },
  {
   "cell_type": "code",
   "execution_count": null,
   "metadata": {},
   "outputs": [],
   "source": [
    "#objects\n",
    "class VgItem:\n",
    "    def __init__(self,data = \"\"):\n",
    "        jData = json.loads(data)\n",
    "        self.id = jData['id']\n",
    "        self.name = jData['name']\n",
    "        self.brand = jData['brand']\n",
    "        self.price = jData['price']\n",
    "        self.imgUrl=''\n",
    "        \n",
    "#helpers\n",
    "def extractItemsFromPage(page):\n",
    "    items_list = page.html.find('a.js-gtmProdData')\n",
    "    items_details = []\n",
    "    for item in items_list:\n",
    "        items_details.append([VgItem(item.attrs['data-gtm-prod-data']),item.absolute_links.pop()])\n",
    "    return items_details\n",
    "\n",
    "def SliceItems(items):\n",
    "    startIndex = 0\n",
    "    sliceSize = 30\n",
    "    slicedItems = []\n",
    "    slicing = True\n",
    "    while(slicing):\n",
    "        if(startIndex+sliceSize <= len(items)):\n",
    "            slicedItems.append(items[startIndex:startIndex+sliceSize])\n",
    "            startIndex = startIndex+sliceSize\n",
    "        else:\n",
    "            slicedItems.append(items[startIndex::])\n",
    "            slicing = False\n",
    "\n",
    "    return slicedItems\n",
    "        \n",
    "\n",
    "async def highResImageLinker(itemsWithDetailsLink):\n",
    "    minDelay = 0.200\n",
    "    maxDelay =0.500\n",
    "    items = []\n",
    "    executor = concurrent.futures.ThreadPoolExecutor(max_workers=2)\n",
    "    loop = asyncio.get_event_loop()\n",
    "    imageASession = AsyncHTMLSession()\n",
    "    for [vgItem , detailsLink] in itemsWithDetailsLink:\n",
    "        randomDelay = random.randint(2,5)*0.1\n",
    "        await asyncio.sleep(randomDelay)\n",
    "        detailed_page = await imageASession.get(detailsLink)\n",
    "        imgUrl = loop.run_in_executor(executor, loadImg, detailed_page)\n",
    "        vgItem.imgUrl =imgUrl\n",
    "        items.append(vgItem)\n",
    "    await imageASession.close()\n",
    "    return items\n",
    "    \n",
    "def loadImg(page):\n",
    "    imgTag = page.html.find(\"div.productinfo-slider img\",first = True)\n",
    "    return imgTag.attrs['data-lazy'] \n"
   ]
  },
  {
   "cell_type": "code",
   "execution_count": null,
   "metadata": {},
   "outputs": [],
   "source": []
  },
  {
   "cell_type": "code",
   "execution_count": null,
   "metadata": {},
   "outputs": [],
   "source": [
    "\n",
    "# Main scrapping fun \n",
    "async def main():\n",
    "    base_urls = ['https://www.carrefouregypt.com/mafegy/en/bakery/c/FEGY1610000','https://www.carrefouregypt.com/mafegy/en/frozen-food/c/FEGY6000000']\n",
    "    category = ['bakery','frozen-food']\n",
    "    asession = AsyncHTMLSession()\n",
    "    crawling = True\n",
    "    page_url = base_urls[0]\n",
    "    scrappedData = []\n",
    "    vgItems = []\n",
    "    while(crawling):\n",
    "        page = await asession.get(page_url)\n",
    "        items = extractItemsFromPage(page)\n",
    "        scrappedData = [*scrappedData,*items]\n",
    "        link = page.html.find('a.plp-pagination__navnext',first=True)\n",
    "        if(link.absolute_links!= set()):\n",
    "            nextPageUrl = link.absolute_links.pop() \n",
    "            page_url = nextPageUrl\n",
    "            print(nextPageUrl)\n",
    "        else:\n",
    "            crawling = False\n",
    "        \n",
    "\n",
    "\n",
    "        print(\"---------------\")\n",
    "\n",
    "    slicedItems = SliceItems(scrappedData)\n",
    "\n",
    "    tasks = []\n",
    "    \n",
    "    for itemsSlice in slicedItems :\n",
    "        tasks.append(asyncio.create_task(highResImageLinker(itemsSlice)))\n",
    "        print('tasking')\n",
    "    for task in tasks:\n",
    "         vgItems = [*vgItems, *await task]\n",
    "         print(\"appending created items\")\n",
    "    print(\"done\")\n",
    "\n"
   ]
  },
  {
   "cell_type": "code",
   "execution_count": null,
   "metadata": {},
   "outputs": [],
   "source": [
    "await main()\n"
   ]
  },
  {
   "cell_type": "code",
   "execution_count": 59,
   "metadata": {},
   "outputs": [
    {
     "ename": "IndexError",
     "evalue": "list index out of range",
     "output_type": "error",
     "traceback": [
      "\u001b[0;31m---------------------------------------------------------------------------\u001b[0m",
      "\u001b[0;31mIndexError\u001b[0m                                Traceback (most recent call last)",
      "\u001b[0;32m<ipython-input-59-2cea0191ba8a>\u001b[0m in \u001b[0;36m<module>\u001b[0;34m\u001b[0m\n\u001b[0;32m----> 1\u001b[0;31m \u001b[0mscrappedData\u001b[0m\u001b[0;34m[\u001b[0m\u001b[0;36m0\u001b[0m\u001b[0;34m]\u001b[0m\u001b[0;34m.\u001b[0m\u001b[0mimgUrl\u001b[0m\u001b[0;34m\u001b[0m\u001b[0;34m\u001b[0m\u001b[0m\n\u001b[0m",
      "\u001b[0;31mIndexError\u001b[0m: list index out of range"
     ]
    }
   ],
   "source": [
    "scrappedData[0].imgUrl"
   ]
  },
  {
   "cell_type": "code",
   "execution_count": null,
   "metadata": {},
   "outputs": [],
   "source": [
    "\n",
    "\n",
    "\n",
    "        \n",
    "    "
   ]
  },
  {
   "cell_type": "code",
   "execution_count": null,
   "metadata": {},
   "outputs": [],
   "source": [
    "\n"
   ]
  },
  {
   "cell_type": "code",
   "execution_count": null,
   "metadata": {},
   "outputs": [],
   "source": [
    "#old fun\n",
    "def extractItemsFromPage(page):\n",
    "    items_list = page.html.find('a.js-gtmProdData')\n",
    "    items_details = []\n",
    "    for item in items_list:\n",
    "        items_details.append([VgItem(item.attrs['data-gtm-prod-data']),item.absolute_links.pop()])\n",
    "    return items_details\n",
    "\n",
    "def highResImageLinker(itemsWlinks):\n",
    "    items = []\n",
    "    for [vgItem,detailsLink] in itemsWlinks:\n",
    "        detailed_page = requests.get(detailsLink)\n",
    "        executor = concurrent.futures.ThreadPoolExecutor(max_workers=3)\n",
    "        loop = asyncio.get_event_loop()\n",
    "        vgItem.imgUrl = loop.run_in_executor(executor, loadImg, detailed_page)\n",
    "        items.append(vgItem)\n",
    "        print(vgItem.imgUrl)\n",
    "    return items\n",
    "def loadImg(page ):\n",
    "    htmlPage = BeautifulSoup(page.text,\"html.parser\") \n",
    "    imgTag = htmlPage.find(\"div\",\"productinfo-slider\")\n",
    "    return imgTag.img.attrs['data-lazy'] "
   ]
  },
  {
   "cell_type": "code",
   "execution_count": null,
   "metadata": {},
   "outputs": [],
   "source": [
    "\n",
    "    with open('frozen-food.html','w') as file:\n",
    "    file.write(page)"
   ]
  },
  {
   "cell_type": "code",
   "execution_count": null,
   "metadata": {},
   "outputs": [],
   "source": [
    "items_list = page.html.find('a.js-gtmProdData')\n",
    "items_details = []\n",
    "for item in items_list:\n",
    "    print(item.absolute_links.pop())\n",
    "    print(\"----------------\")\n",
    "    items_details.append([item.absolute_links.pop,item.attrs['data-gtm-prod-data']])\n",
    "\n",
    "items=[]\n",
    "for [baseLink,item] in items_details:\n",
    "    vgItem = VgItem(item)\n",
    "    items.append([vgItem,baseLink])"
   ]
  },
  {
   "cell_type": "code",
   "execution_count": null,
   "metadata": {},
   "outputs": [],
   "source": []
  }
 ],
 "metadata": {
  "kernelspec": {
   "display_name": "Python 3",
   "language": "python",
   "name": "python3"
  },
  "language_info": {
   "codemirror_mode": {
    "name": "ipython",
    "version": 3
   },
   "file_extension": ".py",
   "mimetype": "text/x-python",
   "name": "python",
   "nbconvert_exporter": "python",
   "pygments_lexer": "ipython3",
   "version": "3.7.4"
  }
 },
 "nbformat": 4,
 "nbformat_minor": 4
}
